{
  "cells": [
    {
      "cell_type": "markdown",
      "metadata": {
        "id": "-CU-7EahKHqC"
      },
      "source": [
        "# Intro\n",
        "\n",
        "Selamat datang di profil saya! Saya seorang mahasiswa yang sedang mempelajari **Proyek Sains Data** di Universitas Trunojoyo Madura. Bagi saya, data bukan hanya sekumpulan angka, tetapi juga kunci untuk memahami pola, memprediksi tren, dan membuat keputusan yang lebih cerdas.\n",
        "&nbsp;\n",
        "\n",
        "**Disusun oleh:**\n",
        "\n",
        "* **Nama:** Tory Fianata\n",
        "* **NIM:** 210411100170\n",
        "* **Kelas:** Proyek Sains Data (A)\n",
        "\n",
        "&nbsp;\n",
        "\n",
        "---\n",
        "\n",
        "### PROGRAM STUDI TEKNIK INFORMATIKA\n",
        "### FAKULTAS TEKNIK\n",
        "### TRUNOJOYO MADURA\n",
        "### 2025\n",
        "\n",
        "---"
      ]
    }
  ],
  "metadata": {
    "colab": {
      "provenance": []
    },
    "kernelspec": {
      "display_name": "Python 3",
      "name": "python3"
    },
    "language_info": {
      "name": "python"
    }
  },
  "nbformat": 4,
  "nbformat_minor": 0
}
