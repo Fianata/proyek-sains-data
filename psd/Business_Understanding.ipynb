{
  "nbformat": 4,
  "nbformat_minor": 0,
  "metadata": {
    "colab": {
      "provenance": []
    },
    "kernelspec": {
      "name": "python3",
      "display_name": "Python 3"
    },
    "language_info": {
      "name": "python"
    }
  },
  "cells": [
    {
      "cell_type": "markdown",
      "source": [
        "# **Tahap 1: Business Understanding**\n",
        "Tahap ini adalah fondasi dari seluruh proyek sains data. Tujuannya adalah untuk memahami tujuan dan persyaratan proyek dari sudut pandang bisnis. Seperti yang dijelaskan dalam metodologi CRISP-DM, tujuan bisnis akan menentukan data apa yang perlu dipahami."
      ],
      "metadata": {
        "id": "WXXCfl6VMWIz"
      }
    },
    {
      "cell_type": "markdown",
      "source": [
        "## **1.1 Menentukan Tujuan Bisnis (Business Objective)**\n",
        "Pada bagian ini, kita akan mendefinisikan masalah yang ingin dipecahkan dan hasil yang diharapkan.\n",
        "\n",
        "- **Contoh Skenario:** Sebuah institusi pendidikan ingin mengurangi angka drop out (DO) mahasiswa dan meningkatkan tingkat kelulusan tepat waktu.\n",
        "\n",
        "**Tujuan Utama Bisnis:**\n",
        "Menurunkan angka drop out mahasiswa sebesar 5% dan meningkatkan persentase kelulusan tepat waktu sebesar 10% untuk angkatan masuk dua tahun ke depan.\n",
        "\n",
        "<br>\n",
        "\n",
        "### **Pertanyaan Kunci Bisnis:**\n",
        "\n",
        "- Apa faktor-faktor utama yang menyebabkan mahasiswa drop out? (misalnya, nilai akademik, status ekonomi, keaktifan di kelas).\n",
        "\n",
        "- Pada semester berapa mahasiswa paling rentan untuk drop out?\n",
        "\n",
        "- Apakah ada pola demografis (asal daerah, jenis sekolah sebelumnya) pada mahasiswa yang berisiko DO?\n",
        "\n",
        "- Bagaimana cara mengidentifikasi mahasiswa yang berisiko drop out secara dini?"
      ],
      "metadata": {
        "id": "f0d_geSwMig_"
      }
    },
    {
      "cell_type": "markdown",
      "source": [
        "## **1.2 Menilai Situasi Saat Ini (Assess Situation)**\n",
        "Kita perlu mengidentifikasi sumber daya, batasan, asumsi, dan risiko yang dapat memengaruhi proyek.\n",
        "\n",
        "### **Sumber Daya (Resources):**\n",
        "\n",
        "- Data: Data akademik mahasiswa selama 5 tahun terakhir (nilai per semester, IPK, status keaktifan) tersedia di Sistem Informasi Akademik.\n",
        "\n",
        "- Tim: Proyek dikerjakan oleh satu orang analis data dengan dukungan dari bagian akademik.\n",
        "\n",
        "- Infrastruktur: Google Colab untuk analisis, akses ke database, dan perangkat lunak visualisasi.\n",
        "\n",
        "### **Batasan (Constraints):**\n",
        "\n",
        "- Data pribadi yang sangat sensitif (misalnya, masalah keluarga atau kesehatan) tidak tersedia karena alasan privasi.\n",
        "\n",
        "- Proyek harus memberikan hasil awal dalam waktu satu bulan untuk persiapan semester baru.\n",
        "\n",
        "### **Asumsi (Assumptions):**\n",
        "\n",
        "- Data akademik yang tercatat di sistem cukup akurat dan dapat diandalkan.\n",
        "\n",
        "- Pola-pola dari data historis mahasiswa masih relevan untuk memprediksi risiko pada mahasiswa saat ini.\n",
        "\n",
        "### **Risiko (Risks):**\n",
        "\n",
        "- Kualitas Data: Terdapat kemungkinan adanya data yang hilang (misalnya, status keaktifan yang tidak ter-update) yang dapat memengaruhi akurasi model.\n",
        "\n",
        "- Faktor Eksternal: Model mungkin tidak dapat menangkap faktor-faktor di luar data akademik (misalnya, masalah personal mahasiswa) yang juga berpengaruh besar."
      ],
      "metadata": {
        "id": "hPLIDYgnOCTf"
      }
    },
    {
      "cell_type": "markdown",
      "source": [
        "## **1.3 Menentukan Tujuan Data Mining (Data Mining Goals)**\n",
        "Di sini, kita menerjemahkan tujuan bisnis menjadi tujuan teknis yang lebih spesifik.\n",
        "\n",
        "- **Tujuan Bisnis:** Mengidentifikasi faktor-faktor penyebab drop out.\n",
        "\n",
        "  -  **Tujuan Teknis:** Melakukan analisis statistik deskriptif dan analisis korelasi untuk menemukan variabel mana yang paling kuat hubungannya dengan status drop out.\n",
        "\n",
        "- **Tujuan Bisnis:** Mengidentifikasi mahasiswa berisiko secara dini.\n",
        "\n",
        "  - **Tujuan Teknis:** Membangun model klasifikasi (classification model) untuk memprediksi probabilitas seorang mahasiswa akan drop out berdasarkan data akademik semester awal mereka.\n",
        "\n",
        "### **1.4 Menghasilkan Rencana Proyek (Produce Project Plan)**\n",
        "Merancang rencana awal yang mencakup tahapan proyek sesuai metodologi CRISP-DM.\n",
        "\n",
        "- **Fase 1: Business Understanding**\n",
        "\n",
        "  - Aktivitas: Mendefinisikan tujuan dan membuat rencana proyek.\n",
        "\n",
        "  - Output: Dokumen ini.\n",
        "\n",
        "- **Fase 2: Data Understanding**\n",
        "\n",
        "  - Aktivitas: Mengumpulkan data, melakukan Exploratory Data Analysis (EDA), dan verifikasi kualitas data.\n",
        "\n",
        "  - Output: Notebook analisis eksplorasi awal.\n",
        "\n",
        "- **Fase 3: Data Preparation**\n",
        "\n",
        "  - Aktivitas: Membersihkan data (menangani data hilang, duplikat) dan mentransformasi data agar siap untuk pemodelan (misalnya, membuat fitur baru).\n",
        "\n",
        "  - Output: Dataset yang bersih dan siap pakai.\n",
        "\n",
        "- **Fase 4 & 5: Modeling & Evaluation**\n",
        "\n",
        "  - Aktivitas: Membangun beberapa model prediksi, melatihnya, dan mengevaluasi performa model untuk memilih yang terbaik.\n",
        "\n",
        "  - Output: Laporan perbandingan performa model dan model final yang terpilih.\n",
        "\n",
        "- **Fase 6: Deployment**\n",
        "\n",
        "  - Aktivitas: Menyajikan hasil dalam bentuk laporan atau dashboard kepada pimpinan institusi, memberikan daftar mahasiswa yang teridentifikasi berisiko beserta alasannya.\n",
        "\n",
        "  - Output: Presentasi, dashboard, dan rekomendasi intervensi.\n",
        "\n",
        "\n"
      ],
      "metadata": {
        "id": "BTY_ss0hPArn"
      }
    },
    {
      "cell_type": "markdown",
      "source": [],
      "metadata": {
        "id": "K1Lvz2rUQRvy"
      }
    }
  ]
}