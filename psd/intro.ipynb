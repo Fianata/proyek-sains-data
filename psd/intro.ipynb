{
  "nbformat": 4,
  "nbformat_minor": 0,
  "metadata": {
    "colab": {
      "provenance": []
    },
    "kernelspec": {
      "name": "python3",
      "display_name": "Python 3"
    },
    "language_info": {
      "name": "python"
    }
  },
  "cells": [
    {
      "cell_type": "markdown",
      "source": [
        "# Intro\n",
        "\n",
        "Selamat datang di profil saya! Saya seorang mahasiswa yang sedang mempelajari **Proyek Sains Data** di Universitas Trunojoyo Madura. Bagi saya, data bukan hanya sekumpulan angka, tetapi juga kunci untuk memahami pola, memprediksi tren, dan membuat keputusan yang lebih cerdas.\n",
        "## Judul Proyek Sains Data Anda\n",
        "&nbsp;\n",
        "\n",
        "**Disusun oleh:**\n",
        "\n",
        "* **Nama:** Tory Fianata\n",
        "* **NIM:** 210411100170\n",
        "* **Kelas:** Proyek Sains Data (A)\n",
        "\n",
        "&nbsp;\n",
        "\n",
        "---\n",
        "\n",
        "### PROGRAM STUDI TEKNIK INFORMATIKA\n",
        "### FAKULTAS TEKNIK\n",
        "### TRUNOJOYO MADURA\n",
        "### 2025\n",
        "\n",
        "---"
      ],
      "metadata": {
        "id": "-CU-7EahKHqC"
      }
    }
  ]
}